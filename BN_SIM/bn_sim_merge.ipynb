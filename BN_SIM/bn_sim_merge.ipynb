{
 "cells": [
  {
   "cell_type": "code",
   "execution_count": 1,
   "metadata": {},
   "outputs": [],
   "source": [
    "import numpy as np\n",
    "import os\n",
    "import pandas as pd\n",
    "import pickle\n",
    "#import seaborn as sns\n",
    "\n",
    "import dynml as dml\n",
    "\n",
    "np.random.seed(42)\n",
    "pd.set_option('display.max_rows', 500)\n",
    "pd.set_option('display.max_columns', 500)\n",
    "\n",
    "%matplotlib notebook "
   ]
  },
  {
   "cell_type": "code",
   "execution_count": 2,
   "metadata": {},
   "outputs": [],
   "source": [
    "input_attr_tab_paths = [\n",
    "    'data/bnsim_unmerged/input_attr_tab_orig.pkl',\n",
    "    'data/bnsim_unmerged/input_attr_tab_ck2_0.pkl',\n",
    "    'data/bnsim_unmerged/input_attr_tab_egfr_0.pkl',\n",
    "    'data/bnsim_unmerged/input_attr_tab_mek_0.pkl',\n",
    "    'data/bnsim_unmerged/input_attr_tab_mek_tgfbr_0.pkl',\n",
    "    'data/bnsim_unmerged/input_attr_tab_raf_ck2_0.pkl',\n",
    "    'data/bnsim_unmerged/input_attr_tab_src_0.pkl',\n",
    "    'data/bnsim_unmerged/input_attr_tab_tgfbr_0.pkl'\n",
    "]\n",
    "assert(len(set(input_attr_tab_paths)) == 8)\n",
    "\n",
    "gt1_attr_input_tab_paths = [\n",
    "    'data/bnsim_unmerged/gt1_attr_input_tab_orig.pkl',\n",
    "    'data/bnsim_unmerged/gt1_attr_input_tab_ck2_0.pkl',\n",
    "    'data/bnsim_unmerged/gt1_attr_input_tab_egfr_0.pkl',\n",
    "    'data/bnsim_unmerged/gt1_attr_input_tab_mek_0.pkl',\n",
    "    'data/bnsim_unmerged/gt1_attr_input_tab_mek_tgfbr_0.pkl',\n",
    "    'data/bnsim_unmerged/gt1_attr_input_tab_raf_ck2_0.pkl',\n",
    "    'data/bnsim_unmerged/gt1_attr_input_tab_src_0.pkl',\n",
    "    'data/bnsim_unmerged/gt1_attr_input_tab_tgfbr_0.pkl'\n",
    "]\n",
    "assert(len(set(gt1_attr_input_tab_paths)) == 8)\n",
    "\n",
    "go_to_pheno_prob_tab_paths = [\n",
    "    'data/bnsim_unmerged/go_to_pheno_prob_tab_orig.pkl',\n",
    "    'data/bnsim_unmerged/go_to_pheno_prob_tab_ck2_0.pkl',\n",
    "    'data/bnsim_unmerged/go_to_pheno_prob_tab_egfr_0.pkl',\n",
    "    'data/bnsim_unmerged/go_to_pheno_prob_tab_mek_0.pkl',\n",
    "    'data/bnsim_unmerged/go_to_pheno_prob_tab_mek_tgfbr_0.pkl',\n",
    "    'data/bnsim_unmerged/go_to_pheno_prob_tab_raf_ck2_0.pkl',\n",
    "    'data/bnsim_unmerged/go_to_pheno_prob_tab_src_0.pkl',\n",
    "    'data/bnsim_unmerged/go_to_pheno_prob_tab_tgfbr_0.pkl'\n",
    "]\n",
    "assert(len(set(go_to_pheno_prob_tab_paths)) == 8)"
   ]
  },
  {
   "cell_type": "code",
   "execution_count": 3,
   "metadata": {},
   "outputs": [],
   "source": [
    "input_attr_tab = pd.concat([pd.read_pickle(path)  for path in input_attr_tab_paths])\n",
    "input_attr_tab.index = list(range(1, input_attr_tab.shape[0]+1))\n",
    "\n",
    "gt1_attr_input_tab = pd.concat([pd.read_pickle(path)  for path in gt1_attr_input_tab_paths])\n",
    "gt1_attr_input_tab.index = list(range(1, gt1_attr_input_tab.shape[0]+1))\n",
    "\n",
    "go_to_pheno_prob_tab = pd.concat([pd.read_pickle(path)  for path in go_to_pheno_prob_tab_paths])\n",
    "go_to_pheno_prob_tab.index = list(range(1, go_to_pheno_prob_tab.shape[0]+1))"
   ]
  },
  {
   "cell_type": "code",
   "execution_count": 4,
   "metadata": {},
   "outputs": [],
   "source": [
    "input_attr_tab.to_pickle('data/input_attr_tab.pkl')\n",
    "input_attr_tab.to_csv(path_or_buf='data/input_attr_tab.txt', index=False, sep='\\t')\n",
    "\n",
    "gt1_attr_input_tab.to_pickle('data/gt1_attr_input_tab.pkl')\n",
    "gt1_attr_input_tab.to_csv(path_or_buf='data/gt1_attr_input_tab.txt', index=False, sep='\\t')\n",
    "\n",
    "go_to_pheno_prob_tab.to_pickle('data/go_to_pheno_prob_tab.pkl')\n",
    "go_to_pheno_prob_tab.to_csv(path_or_buf='data/go_to_pheno_prob_tab.txt', index=False, sep='\\t')"
   ]
  },
  {
   "cell_type": "code",
   "execution_count": null,
   "metadata": {},
   "outputs": [],
   "source": []
  }
 ],
 "metadata": {
  "kernelspec": {
   "display_name": "Python 3",
   "language": "python",
   "name": "python3"
  },
  "language_info": {
   "codemirror_mode": {
    "name": "ipython",
    "version": 3
   },
   "file_extension": ".py",
   "mimetype": "text/x-python",
   "name": "python",
   "nbconvert_exporter": "python",
   "pygments_lexer": "ipython3",
   "version": "3.6.5"
  }
 },
 "nbformat": 4,
 "nbformat_minor": 2
}
